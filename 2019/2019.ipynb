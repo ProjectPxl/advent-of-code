{
 "cells": [
  {
   "cell_type": "code",
   "execution_count": 155,
   "metadata": {},
   "outputs": [],
   "source": [
    "import numpy as np\n",
    "import pandas as pd"
   ]
  },
  {
   "cell_type": "code",
   "execution_count": 39,
   "metadata": {},
   "outputs": [],
   "source": [
    "#1.1\n",
    "modules_mass = pd.read_fwf(\"./modules_mass.txt\", header=None)"
   ]
  },
  {
   "cell_type": "code",
   "execution_count": 52,
   "metadata": {},
   "outputs": [
    {
     "data": {
      "text/plain": [
       "3374289"
      ]
     },
     "execution_count": 52,
     "metadata": {},
     "output_type": "execute_result"
    }
   ],
   "source": [
    "def get_modules_fuel(modules_mass):\n",
    "    total_fuel = 0\n",
    "    for mass in modules_mass[0]:\n",
    "        total_fuel += int(mass/3) -2\n",
    "    return total_fuel\n",
    "get_modules_fuel(modules_mass)"
   ]
  },
  {
   "cell_type": "code",
   "execution_count": 58,
   "metadata": {},
   "outputs": [],
   "source": [
    "#1.2\n",
    "def get_total_fuel(modules_mass):\n",
    "    total_fuel = 0\n",
    "    for mass in modules_mass[0]:\n",
    "        module_fuel = int(mass/3) - 2\n",
    "        total_fuel += module_fuel + get_fuel_of_fuel(module_fuel)\n",
    "    return total_fuel\n",
    "\n",
    "def get_fuel_of_fuel(fuel):\n",
    "    new_fuel = int(fuel/3) - 2\n",
    "    if new_fuel <= 0: return 0\n",
    "    return new_fuel + fuel_of_fuel(new_fuel)\n",
    "get_total_fuel(modules_mass)"
   ]
  },
  {
   "cell_type": "code",
   "execution_count": 192,
   "metadata": {},
   "outputs": [],
   "source": [
    "#2.1\n",
    "grav_assist_prog = np.loadtxt(\"./grav_assist_prog.txt\", delimiter=\",\").astype(int)\n",
    "grav_assist_prog[1] = 12\n",
    "grav_assist_prog[2] = 2"
   ]
  },
  {
   "cell_type": "code",
   "execution_count": null,
   "metadata": {},
   "outputs": [],
   "source": [
    "def computer(code):\n",
    "    for i in range( 0, len(code), 4 ):\n",
    "        optcode = code[i]\n",
    "        a = code[i+1]\n",
    "        b = code[i+2]\n",
    "        c = code[i+3]\n",
    "        if optcode == 99: \n",
    "            return code\n",
    "        elif optcode == 1:\n",
    "            code[c] = code[a] + code[b]\n",
    "        elif optcode == 2:\n",
    "            code[c] = code[a] * code[b]\n",
    "        else: return \"Unknown optcode\"\n",
    "computer( grav_assist_prog.copy() )"
   ]
  },
  {
   "cell_type": "code",
   "execution_count": 186,
   "metadata": {},
   "outputs": [],
   "source": [
    "#2.2\n",
    "def find_noun_verb():\n",
    "    for i in range(0,100):\n",
    "        for j in range(0,100):\n",
    "            grav_assist_prog_copy = grav_assist_prog.copy()\n",
    "            grav_assist_prog_copy[1] = i\n",
    "            grav_assist_prog_copy[2] = j\n",
    "            output = computer(grav_assist_prog_copy)[0]\n",
    "            if output == 19690720: \n",
    "                return i,j\n",
    "    return False\n",
    "find_noun_verb()"
   ]
  },
  {
   "cell_type": "code",
   "execution_count": 320,
   "metadata": {},
   "outputs": [],
   "source": [
    "#3.1\n",
    "paths = []\n",
    "with open(\"crossed_wires.txt\") as f:\n",
    "    paths = f.read().splitlines()\n",
    "\n",
    "m = {'U': (0,1),\n",
    "     'D': (0,-1),\n",
    "     'L': (-1,0),\n",
    "     'R': (1,0)}\n",
    "\n",
    "def get_path_range(path):\n",
    "    x = y = l = r = u = d = 0\n",
    "    for i in range( len(path) ):\n",
    "        direction, val = ( path[i][0], int(path[i][1:]) )\n",
    "        x = x + m[direction][0]*val\n",
    "        y = y + m[direction][1]*val\n",
    "        if x > r: r=x \n",
    "        if x < l: l = x \n",
    "        if y > u: u=y \n",
    "        if y < d: d = y \n",
    "    return (r,l), (u,d)\n",
    "\n",
    "def get_closest_intersection_dist(wire):\n",
    "    w1 = get_wire_path(wire[0])[1:]\n",
    "    w2 = get_wire_path(wire[1])[1:]\n",
    "    intersections = get_intersections(w1, w2)\n",
    "    dist = lambda pt: abs(pt[0]) + abs(pt[1])\n",
    "    closest_intr = min(intersections, key = lambda y: dist(y))\n",
    "    return dist(closest_intr)\n",
    "\n",
    "def get_wire_path(path):\n",
    "    path = path.split(',')\n",
    "    all_steps = [[0,0]]\n",
    "    x_range, y_range = get_path_range(path)\n",
    "    \n",
    "    for i in range( len(path) ):\n",
    "        step = ( path[i][0], int(path[i][1:]) )\n",
    "        all_steps = update_wire_coordinates(step, all_steps, x_range, y_range)\n",
    "    return all_steps\n",
    "\n",
    "def update_wire_coordinates(step, coordinates, x_range, y_range):\n",
    "    d, u = step\n",
    "    x, y = coordinates[-1]\n",
    "    for i in range(1, u+1):\n",
    "        x = x + m[d][0]\n",
    "        y = y + m[d][1]\n",
    "        if (not [x,y] in coordinates) and in_bounds(x, y, x_range, y_range): \n",
    "            coordinates.append([x,y])\n",
    "    return coordinates\n",
    "\n",
    "def in_bounds(x, y, x_range, y_range):\n",
    "    return (x <= x_range[0] and x >= x_range[1]) and (y <= y_range[0] and y >= y_range[1])\n",
    "    \n",
    "    \n",
    "def get_intersections(steps1, steps2):\n",
    "    intercections = []\n",
    "    for step1 in steps1:\n",
    "        for step2 in steps2:\n",
    "            if step1 == step2: intercections.append(step1)\n",
    "    return intercections"
   ]
  },
  {
   "cell_type": "code",
   "execution_count": 321,
   "metadata": {},
   "outputs": [
    {
     "data": {
      "text/plain": [
       "135"
      ]
     },
     "execution_count": 321,
     "metadata": {},
     "output_type": "execute_result"
    }
   ],
   "source": [
    "get_closest_intersection_dist([\"R98,U47,R26,D63,R33,U87,L62,D20,R33,U53,R51\",\"U98,R91,D20,R16,D67,R40,U7,R15,U6,R7\"])"
   ]
  }
 ],
 "metadata": {
  "kernelspec": {
   "display_name": "Python 3",
   "language": "python",
   "name": "python3"
  },
  "language_info": {
   "codemirror_mode": {
    "name": "ipython",
    "version": 3
   },
   "file_extension": ".py",
   "mimetype": "text/x-python",
   "name": "python",
   "nbconvert_exporter": "python",
   "pygments_lexer": "ipython3",
   "version": "3.7.4"
  }
 },
 "nbformat": 4,
 "nbformat_minor": 2
}
