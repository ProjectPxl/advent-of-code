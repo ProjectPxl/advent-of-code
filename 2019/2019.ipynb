{
 "cells": [
  {
   "cell_type": "code",
   "execution_count": 155,
   "metadata": {},
   "outputs": [],
   "source": [
    "import numpy as np\n",
    "import pandas as pd"
   ]
  },
  {
   "cell_type": "code",
   "execution_count": 39,
   "metadata": {},
   "outputs": [],
   "source": [
    "#1.1\n",
    "modules_mass = pd.read_fwf(\"./modules_mass.txt\", header=None)"
   ]
  },
  {
   "cell_type": "code",
   "execution_count": 52,
   "metadata": {},
   "outputs": [
    {
     "data": {
      "text/plain": [
       "3374289"
      ]
     },
     "execution_count": 52,
     "metadata": {},
     "output_type": "execute_result"
    }
   ],
   "source": [
    "def get_modules_fuel(modules_mass):\n",
    "    total_fuel = 0\n",
    "    for mass in modules_mass[0]:\n",
    "        total_fuel += int(mass/3) -2\n",
    "    return total_fuel\n",
    "get_modules_fuel(modules_mass)"
   ]
  },
  {
   "cell_type": "code",
   "execution_count": 58,
   "metadata": {},
   "outputs": [],
   "source": [
    "#1.2\n",
    "def get_total_fuel(modules_mass):\n",
    "    total_fuel = 0\n",
    "    for mass in modules_mass[0]:\n",
    "        module_fuel = int(mass/3) - 2\n",
    "        total_fuel += module_fuel + get_fuel_of_fuel(module_fuel)\n",
    "    return total_fuel\n",
    "\n",
    "def get_fuel_of_fuel(fuel):\n",
    "    new_fuel = int(fuel/3) - 2\n",
    "    if new_fuel <= 0: return 0\n",
    "    return new_fuel + fuel_of_fuel(new_fuel)\n",
    "get_total_fuel(modules_mass)"
   ]
  },
  {
   "cell_type": "code",
   "execution_count": 192,
   "metadata": {},
   "outputs": [],
   "source": [
    "#2.1\n",
    "grav_assist_prog = np.loadtxt(\"./grav_assist_prog.txt\", delimiter=\",\").astype(int)\n",
    "grav_assist_prog[1] = 12\n",
    "grav_assist_prog[2] = 2"
   ]
  },
  {
   "cell_type": "code",
   "execution_count": null,
   "metadata": {},
   "outputs": [],
   "source": [
    "def computer(code):\n",
    "    for i in range( 0, len(code), 4 ):\n",
    "        optcode = code[i]\n",
    "        a = code[i+1]\n",
    "        b = code[i+2]\n",
    "        c = code[i+3]\n",
    "        if optcode == 99: \n",
    "            return code\n",
    "        elif optcode == 1:\n",
    "            code[c] = code[a] + code[b]\n",
    "        elif optcode == 2:\n",
    "            code[c] = code[a] * code[b]\n",
    "        else: return \"Unknown optcode\"\n",
    "computer( grav_assist_prog.copy() )"
   ]
  },
  {
   "cell_type": "code",
   "execution_count": 186,
   "metadata": {},
   "outputs": [],
   "source": [
    "#2.2\n",
    "def find_noun_verb():\n",
    "    for i in range(0,100):\n",
    "        for j in range(0,100):\n",
    "            grav_assist_prog_copy = grav_assist_prog.copy()\n",
    "            grav_assist_prog_copy[1] = i\n",
    "            grav_assist_prog_copy[2] = j\n",
    "            output = computer(grav_assist_prog_copy)[0]\n",
    "            if output == 19690720: \n",
    "                return i,j\n",
    "    return False\n",
    "find_noun_verb()"
   ]
  },
  {
   "cell_type": "code",
   "execution_count": 179,
   "metadata": {},
   "outputs": [],
   "source": [
    "#3.1\n",
    "paths = []\n",
    "with open(\"crossed_wires.txt\") as f:\n",
    "    paths = f.read().splitlines() \n",
    "\n",
    "def get_closest_intersection_dist(wire):\n",
    "    w1 = get_wire_path(wire[0])[1:]\n",
    "    w2 = get_wire_path(wire[1])[1:]\n",
    "    intersections = get_intersections(w1, w2)\n",
    "    dist = lambda pt: abs(pt[0]) + abs(pt[1])\n",
    "    closest_intr = min(intersections, key = lambda y: dist(y))\n",
    "    return dist(closest_intr)\n",
    "\n",
    "def get_wire_path(path):\n",
    "    path = path.split(',')\n",
    "    all_steps = [[0,0]]\n",
    "    \n",
    "    for i in range( len(path) ):\n",
    "        step = ( path[i][0], int(path[i][1:]) )\n",
    "        all_steps = update_wire_coordinates(step, all_steps)\n",
    "    return all_steps\n",
    "\n",
    "def update_wire_coordinates(step, coordinates):\n",
    "    d, u = step\n",
    "    for i in range(1, u+1):\n",
    "        last = coordinates[-1].copy()\n",
    "        if   d == 'U': last[1] += 1\n",
    "        elif d == 'D': last[1] -= 1\n",
    "        elif d == 'R': last[0] += 1\n",
    "        elif d == 'L': last[0] -= 1\n",
    "        else: return False\n",
    "        coordinates.append(last)\n",
    "    return coordinates\n",
    "    \n",
    "def get_intersections(steps1, steps2):\n",
    "    intercections = []\n",
    "    for step1 in steps1:\n",
    "        for step2 in steps2:\n",
    "            if step1 == step2: intercections.append(step1)\n",
    "    return intercections"
   ]
  },
  {
   "cell_type": "code",
   "execution_count": 180,
   "metadata": {},
   "outputs": [
    {
     "data": {
      "text/plain": [
       "159"
      ]
     },
     "execution_count": 180,
     "metadata": {},
     "output_type": "execute_result"
    }
   ],
   "source": [
    "get_closest_intersection_dist([\"R75,D30,R83,U83,L12,D49,R71,U7,L72\",\"U62,R66,U55,R34,D71,R55,D58,R83\"])"
   ]
  }
 ],
 "metadata": {
  "kernelspec": {
   "display_name": "Python 3",
   "language": "python",
   "name": "python3"
  },
  "language_info": {
   "codemirror_mode": {
    "name": "ipython",
    "version": 3
   },
   "file_extension": ".py",
   "mimetype": "text/x-python",
   "name": "python",
   "nbconvert_exporter": "python",
   "pygments_lexer": "ipython3",
   "version": "3.7.4"
  }
 },
 "nbformat": 4,
 "nbformat_minor": 2
}
