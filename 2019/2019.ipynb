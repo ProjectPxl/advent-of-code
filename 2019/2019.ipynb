{
 "cells": [
  {
   "cell_type": "code",
   "execution_count": 1,
   "metadata": {},
   "outputs": [],
   "source": [
    "import numpy as np\n",
    "import pandas as pd"
   ]
  },
  {
   "cell_type": "code",
   "execution_count": 39,
   "metadata": {},
   "outputs": [],
   "source": [
    "#1.1\n",
    "modules_mass = pd.read_fwf(\"./modules_mass.txt\", header=None)"
   ]
  },
  {
   "cell_type": "code",
   "execution_count": 52,
   "metadata": {},
   "outputs": [
    {
     "data": {
      "text/plain": [
       "3374289"
      ]
     },
     "execution_count": 52,
     "metadata": {},
     "output_type": "execute_result"
    }
   ],
   "source": [
    "def get_modules_fuel(modules_mass):\n",
    "    total_fuel = 0\n",
    "    for mass in modules_mass[0]:\n",
    "        total_fuel += int(mass/3) -2\n",
    "    return total_fuel\n",
    "get_modules_fuel(modules_mass)"
   ]
  },
  {
   "cell_type": "code",
   "execution_count": 58,
   "metadata": {},
   "outputs": [],
   "source": [
    "#1.2\n",
    "def get_total_fuel(modules_mass):\n",
    "    total_fuel = 0\n",
    "    for mass in modules_mass[0]:\n",
    "        module_fuel = int(mass/3) - 2\n",
    "        total_fuel += module_fuel + get_fuel_of_fuel(module_fuel)\n",
    "    return total_fuel\n",
    "\n",
    "def get_fuel_of_fuel(fuel):\n",
    "    new_fuel = int(fuel/3) - 2\n",
    "    if new_fuel <= 0: return 0\n",
    "    return new_fuel + fuel_of_fuel(new_fuel)\n",
    "get_total_fuel(modules_mass)"
   ]
  },
  {
   "cell_type": "code",
   "execution_count": 192,
   "metadata": {},
   "outputs": [],
   "source": [
    "#2.1\n",
    "grav_assist_prog = np.loadtxt(\"./grav_assist_prog.txt\", delimiter=\",\").astype(int)\n",
    "grav_assist_prog[1] = 12\n",
    "grav_assist_prog[2] = 2"
   ]
  },
  {
   "cell_type": "code",
   "execution_count": null,
   "metadata": {},
   "outputs": [],
   "source": [
    "def computer(code):\n",
    "    for i in range( 0, len(code), 4 ):\n",
    "        optcode = code[i]\n",
    "        a = code[i+1]\n",
    "        b = code[i+2]\n",
    "        c = code[i+3]\n",
    "        if optcode == 99: \n",
    "            return code\n",
    "        elif optcode == 1:\n",
    "            code[c] = code[a] + code[b]\n",
    "        elif optcode == 2:\n",
    "            code[c] = code[a] * code[b]\n",
    "        else: return \"Unknown optcode\"\n",
    "computer( grav_assist_prog.copy() )"
   ]
  },
  {
   "cell_type": "code",
   "execution_count": 186,
   "metadata": {},
   "outputs": [],
   "source": [
    "#2.2\n",
    "def find_noun_verb():\n",
    "    grav_assist_prog_copy = grav_assist_prog.copy()\n",
    "    for i in range(0,100):\n",
    "        for j in range(0,100):\n",
    "            grav_assist_prog_copy = grav_assist_prog.copy()\n",
    "            grav_assist_prog_copy[1] = i\n",
    "            grav_assist_prog_copy[2] = j\n",
    "            output = computer(grav_assist_prog_copy)[0]\n",
    "            if output == 19690720: \n",
    "                return i,j\n",
    "    return False\n",
    "find_noun_verb()"
   ]
  }
 ],
 "metadata": {
  "kernelspec": {
   "display_name": "Python 3",
   "language": "python",
   "name": "python3"
  },
  "language_info": {
   "codemirror_mode": {
    "name": "ipython",
    "version": 3
   },
   "file_extension": ".py",
   "mimetype": "text/x-python",
   "name": "python",
   "nbconvert_exporter": "python",
   "pygments_lexer": "ipython3",
   "version": "3.7.4"
  }
 },
 "nbformat": 4,
 "nbformat_minor": 2
}
